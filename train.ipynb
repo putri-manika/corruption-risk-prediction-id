{
 "cells": [
  {
   "cell_type": "code",
   "execution_count": 1,
   "id": "ebc262e9",
   "metadata": {},
   "outputs": [],
   "source": [
    "import pandas as pd\n",
    "import numpy as np\n",
    "import pickle\n",
    "from sklearn.model_selection import train_test_split\n",
    "from sklearn.preprocessing import LabelEncoder\n",
    "from sklearn.metrics import accuracy_score, classification_report\n",
    "\n",
    "from manual_model import RandomForest, SVM"
   ]
  },
  {
   "cell_type": "code",
   "execution_count": 2,
   "id": "997578cd",
   "metadata": {},
   "outputs": [],
   "source": [
    "data = pd.read_csv(\"data_bersih2.csv\")"
   ]
  },
  {
   "cell_type": "code",
   "execution_count": 3,
   "id": "9d711750",
   "metadata": {},
   "outputs": [],
   "source": [
    "X = data.drop(columns=['skor_risiko_korupsi', 'indikator_penawar_tunggal', \"indikator_prosedur_berisiko\", \"indikator_submisi_berisiko\", \"indikator_keputusan_berisiko\", \"konsentrasi_instansi\", 'label'])\n",
    "\n",
    "y = data['label']"
   ]
  },
  {
   "cell_type": "code",
   "execution_count": 4,
   "id": "f2c2e23a",
   "metadata": {},
   "outputs": [
    {
     "name": "stdout",
     "output_type": "stream",
     "text": [
      "Jumlah data latih: 79958\n",
      "Jumlah data uji   : 19990\n"
     ]
    }
   ],
   "source": [
    "# Split data: 80% train, 20% test\n",
    "X_train, X_test, y_train, y_test = train_test_split(\n",
    "    X, y, test_size=0.2, random_state=42, stratify=y \n",
    ")\n",
    "\n",
    "print(\"Jumlah data latih:\", X_train.shape[0])\n",
    "print(\"Jumlah data uji   :\", X_test.shape[0])"
   ]
  },
  {
   "cell_type": "code",
   "execution_count": null,
   "id": "e4bde960",
   "metadata": {},
   "outputs": [
    {
     "name": "stdout",
     "output_type": "stream",
     "text": [
      "Kolom non-numerik: ['id_tender', 'judul_tender', 'jenis_prosedur', 'jenis_pengadaan', 'tanggal_kontrak', 'tanggal_keputusan_pemenang', 'status_lot', 'nama_instansi', 'negara_instansi', 'id_penyedia', 'nama_penyedia', 'tipe_penyedia', 'penyedia_menang', 'sumber_data', 'id_lot', 'id_penawaran']\n",
      "Distribusi label setelah SMOTE: Counter({0: 70717, 1: 70717})\n"
     ]
    }
   ],
   "source": [
    "non_numeric_cols = X_train.select_dtypes(include=['object']).columns\n",
    "print(\"Kolom non-numerik:\", list(non_numeric_cols))\n",
    "\n",
    "X_train_num = X_train.drop(columns=non_numeric_cols)\n",
    "\n",
    "from imblearn.over_sampling import SMOTE\n",
    "smote = SMOTE(random_state=42)\n",
    "X_train_resampled, y_train_resampled = smote.fit_resample(X_train_num, y_train)\n",
    "\n",
    "from collections import Counter\n",
    "print(\"Distribusi label setelah SMOTE:\", Counter(y_train_resampled))"
   ]
  },
  {
   "cell_type": "code",
   "execution_count": null,
   "id": "793c9bd1",
   "metadata": {},
   "outputs": [],
   "source": [
    "data = pd.concat([X, pd.Series(y, name='label')], axis=1)\n",
    "\n",
    "class_0 = data[data['label'] == 0]\n",
    "class_1 = data[data['label'] == 1]\n",
    "\n",
    "class_0_undersampled = class_0.sample(n=len(class_1), random_state=42)\n",
    "\n",
    "data_balanced = pd.concat([class_0_undersampled, class_1], axis=0).sample(frac=1, random_state=42)  # acak data\n",
    "\n",
    "X = data_balanced.drop(['id_tender', 'id_lot', 'id_penawaran', 'id_penyedia','nama_penyedia', 'judul_tender', 'nama_instansi','tanggal_kontrak', 'tanggal_keputusan_pemenang', \"label\"], axis=1)\n",
    "y = data_balanced['label']\n",
    "\n",
    "\n",
    "col_kategorikal = X.select_dtypes(include=['object']).columns\n",
    "\n",
    "if len(col_kategorikal) > 0:\n",
    "    for col in col_kategorikal:\n",
    "        le = LabelEncoder()\n",
    "        X[col] = le.fit_transform(X[col])\n",
    "        if col in X_test.columns:\n",
    "            X_test[col] = le.transform(X_test[col])\n",
    "\n",
    "X_train, X_test, y_train, y_test = train_test_split(X, y, stratify=y, test_size=0.2, random_state=42)"
   ]
  },
  {
   "cell_type": "code",
   "execution_count": 7,
   "id": "fc97198c",
   "metadata": {},
   "outputs": [
    {
     "name": "stdout",
     "output_type": "stream",
     "text": [
      "📊 Random Forest Accuracy: 0.9580177450768232\n",
      "              precision    recall  f1-score   support\n",
      "\n",
      "           0       0.98      0.93      0.96      2311\n",
      "           1       0.94      0.98      0.96      2310\n",
      "\n",
      "    accuracy                           0.96      4621\n",
      "   macro avg       0.96      0.96      0.96      4621\n",
      "weighted avg       0.96      0.96      0.96      4621\n",
      "\n"
     ]
    }
   ],
   "source": [
    "rf = RandomForest(n_trees=5, max_depth=5, min_samples_split=2, n_feature=5)\n",
    "rf.fit(X_train, y_train)\n",
    "\n",
    "y_pred_rf = rf.predict(X_test)\n",
    "print(\"📊 Random Forest Accuracy:\", accuracy_score(y_test, y_pred_rf))\n",
    "print(classification_report(y_test, y_pred_rf))\n"
   ]
  },
  {
   "cell_type": "code",
   "execution_count": 8,
   "id": "970f85a9",
   "metadata": {},
   "outputs": [],
   "source": [
    "# Save RF model\n",
    "with open(\"rf_manual_model.pkl\", \"wb\") as f:\n",
    "    pickle.dump(rf, f)"
   ]
  },
  {
   "cell_type": "code",
   "execution_count": null,
   "id": "70d5f1f3",
   "metadata": {},
   "outputs": [
    {
     "name": "stdout",
     "output_type": "stream",
     "text": [
      "Akurasi: 0.6505085479333478\n",
      "Laporan Klasifikasi:\n",
      "               precision    recall  f1-score   support\n",
      "\n",
      "           0       0.69      0.55      0.61      2311\n",
      "           1       0.63      0.75      0.68      2310\n",
      "\n",
      "    accuracy                           0.65      4621\n",
      "   macro avg       0.66      0.65      0.65      4621\n",
      "weighted avg       0.66      0.65      0.65      4621\n",
      "\n"
     ]
    },
    {
     "data": {
      "image/png": "[encoded data removed]",
      "text/plain": [
       "<Figure size 640x480 with 2 Axes>"
      ]
     },
     "metadata": {},
     "output_type": "display_data"
    }
   ],
   "source": [
    "\n",
    "from sklearn.metrics import accuracy_score, classification_report, confusion_matrix\n",
    "import seaborn as sns\n",
    "import matplotlib.pyplot as plt\n",
    "\n",
    "y_train_svm = []\n",
    "for label in y_train:\n",
    "    if label == 0:\n",
    "        y_train_svm.append(-1)\n",
    "    else:\n",
    "        y_train_svm.append(1)\n",
    "\n",
    "y_test_svm = []\n",
    "for label in y_test:\n",
    "    if label == 0:\n",
    "        y_test_svm.append(-1)\n",
    "    else:\n",
    "        y_test_svm.append(1)\n",
    "\n",
    "svm = SVM(max_iter=500, C=5)\n",
    "svm.fit(X_train, y_train_svm)\n",
    "\n",
    "y_pred = svm.predict(X_test)\n",
    "\n",
    "y_pred_bin = []\n",
    "for p in y_pred:\n",
    "    if p == -1:\n",
    "        y_pred_bin.append(0)\n",
    "    else:\n",
    "        y_pred_bin.append(1)\n",
    "\n",
    "y_true_bin = []\n",
    "for t in y_test_svm:\n",
    "    if t == -1:\n",
    "        y_true_bin.append(0)\n",
    "    else:\n",
    "        y_true_bin.append(1)\n",
    "\n",
    "print(\"Akurasi:\", accuracy_score(y_true_bin, y_pred_bin))\n",
    "print(\"Laporan Klasifikasi:\\n\", classification_report(y_true_bin, y_pred_bin))\n",
    "\n",
    "# Tampilkan confusion matrix\n",
    "cm = confusion_matrix(y_true_bin, y_pred_bin)\n",
    "sns.heatmap(cm, annot=True, fmt='d', cmap='Blues')\n",
    "plt.xlabel(\"Prediksi\")\n",
    "plt.ylabel(\"Label Asli\")\n",
    "plt.title(\"Matriks Kebingungan (Confusion Matrix)\")\n",
    "plt.show()\n"
   ]
  },
  {
   "cell_type": "code",
   "execution_count": 10,
   "id": "167211fe",
   "metadata": {},
   "outputs": [],
   "source": [
    "# Save SVM model\n",
    "with open(\"svm_manual_model.pkl\", \"wb\") as f:\n",
    "    pickle.dump(svm, f)"
   ]
  }
 ],
 "metadata": {
  "kernelspec": {
   "display_name": "Python 3",
   "language": "python",
   "name": "python3"
  },
  "language_info": {
   "codemirror_mode": {
    "name": "ipython",
    "version": 3
   },
   "file_extension": ".py",
   "mimetype": "text/x-python",
   "name": "python",
   "nbconvert_exporter": "python",
   "pygments_lexer": "ipython3",
   "version": "3.11.4"
  }
 },
 "nbformat": 4,
 "nbformat_minor": 5
}
